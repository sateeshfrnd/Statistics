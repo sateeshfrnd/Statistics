{
 "cells": [
  {
   "cell_type": "markdown",
   "id": "08500c06-6d5d-46bc-9ced-172c154d48eb",
   "metadata": {},
   "source": [
    "# Stratified Sampling\n",
    "\n",
    "Stratified Sampling is a sampling technique where the population is divided into distinct subgroups or strata based on certain characteristics, and then random samples are drawn from each stratum in proportion to their size in the population."
   ]
  },
  {
   "cell_type": "markdown",
   "id": "7348dbb6-d9a2-49de-8149-eece1e67f6b5",
   "metadata": {},
   "source": [
    "## Example\n",
    "\n",
    "Let's assume we have a dataset with employee IDs, ages, and departments. We want to perform stratified sampling to select a sample of employee, ensuring that the sample is representative of each department."
   ]
  },
  {
   "cell_type": "code",
   "execution_count": 2,
   "id": "16b79494-2d1f-49f3-900b-f540b20b7342",
   "metadata": {
    "tags": []
   },
   "outputs": [],
   "source": [
    "import pandas as pd\n",
    "import random"
   ]
  },
  {
   "cell_type": "markdown",
   "id": "6449c3da-55b4-4813-930b-0d25ef133a80",
   "metadata": {},
   "source": [
    "### Create sample student data with employee id, age and department."
   ]
  },
  {
   "cell_type": "code",
   "execution_count": 16,
   "id": "b0e4a601-9847-4ed2-ab39-3d1c09e4ea47",
   "metadata": {
    "tags": []
   },
   "outputs": [],
   "source": [
    "# Number of employees\n",
    "num_emp = 100\n",
    "\n",
    "# Generate random employee IDs\n",
    "emp_ids = range(1, num_emp + 1)\n",
    "\n",
    "# Generate random ages for employees\n",
    "ages = [random.randint(18, 25) for _ in range(num_emp)]\n",
    "\n",
    "# GEnerate data for three departments\n",
    "departments = [random.choice(['Marketing', 'Finance', 'Operations']) for _ in range(num_emp)]"
   ]
  },
  {
   "cell_type": "code",
   "execution_count": 17,
   "id": "2d950a0f-5ea7-4b57-8561-52e8277a0c2f",
   "metadata": {
    "tags": []
   },
   "outputs": [
    {
     "data": {
      "text/plain": [
       "range(1, 101)"
      ]
     },
     "execution_count": 17,
     "metadata": {},
     "output_type": "execute_result"
    }
   ],
   "source": [
    "emp_ids"
   ]
  },
  {
   "cell_type": "code",
   "execution_count": 18,
   "id": "7d74e3da-ad26-4464-aae6-b4b06d4fd628",
   "metadata": {
    "tags": []
   },
   "outputs": [
    {
     "data": {
      "text/plain": [
       "'[20, 21, 18, 25, 18, 18, 22, 24, 23, 23, 22, 21, 23, 20, 23, 19, 18, 18, 23, 22, 24, 18, 18, 20, 23, 21, 23, 21, 21, 23, 22, 21, 21, 24, 23, 20, 18, 24, 19, 20, 18, 22, 20, 25, 20, 19, 22, 22, 22, 23, 24, 20, 19, 23, 25, 20, 19, 25, 18, 19, 25, 22, 25, 24, 21, 25, 19, 23, 21, 24, 23, 20, 24, 24, 19, 19, 19, 23, 20, 23, 19, 24, 21, 25, 21, 24, 18, 18, 23, 21, 19, 23, 21, 21, 22, 18, 20, 23, 19, 18]'"
      ]
     },
     "execution_count": 18,
     "metadata": {},
     "output_type": "execute_result"
    }
   ],
   "source": [
    "str(ages)"
   ]
  },
  {
   "cell_type": "code",
   "execution_count": 19,
   "id": "005623c0-8a51-4d83-a0ea-7cf28595a59c",
   "metadata": {
    "tags": []
   },
   "outputs": [
    {
     "data": {
      "text/plain": [
       "\"['Operations', 'Marketing', 'Marketing', 'Operations', 'Operations', 'Marketing', 'Operations', 'Finance', 'Finance', 'Operations', 'Finance', 'Marketing', 'Finance', 'Marketing', 'Marketing', 'Operations', 'Finance', 'Finance', 'Finance', 'Marketing', 'Marketing', 'Finance', 'Finance', 'Operations', 'Operations', 'Operations', 'Operations', 'Operations', 'Operations', 'Finance', 'Finance', 'Operations', 'Marketing', 'Finance', 'Operations', 'Operations', 'Finance', 'Operations', 'Finance', 'Operations', 'Marketing', 'Marketing', 'Marketing', 'Operations', 'Marketing', 'Operations', 'Marketing', 'Operations', 'Finance', 'Finance', 'Marketing', 'Marketing', 'Finance', 'Operations', 'Operations', 'Marketing', 'Operations', 'Operations', 'Marketing', 'Finance', 'Operations', 'Finance', 'Finance', 'Finance', 'Marketing', 'Operations', 'Operations', 'Operations', 'Finance', 'Finance', 'Marketing', 'Operations', 'Finance', 'Finance', 'Operations', 'Marketing', 'Operations', 'Finance', 'Operations', 'Finance', 'Marketing', 'Finance', 'Marketing', 'Marketing', 'Operations', 'Finance', 'Operations', 'Operations', 'Finance', 'Finance', 'Finance', 'Finance', 'Operations', 'Marketing', 'Marketing', 'Operations', 'Marketing', 'Finance', 'Finance', 'Marketing']\""
      ]
     },
     "execution_count": 19,
     "metadata": {},
     "output_type": "execute_result"
    }
   ],
   "source": [
    "str(departments)"
   ]
  },
  {
   "cell_type": "code",
   "execution_count": 20,
   "id": "8fd45323-87d6-4ed8-9b41-435a441a0c79",
   "metadata": {
    "tags": []
   },
   "outputs": [
    {
     "data": {
      "text/plain": [
       "100"
      ]
     },
     "execution_count": 20,
     "metadata": {},
     "output_type": "execute_result"
    }
   ],
   "source": [
    "len(departments)"
   ]
  },
  {
   "cell_type": "markdown",
   "id": "664a0f16-4399-48ec-93df-97ffaafd6b41",
   "metadata": {},
   "source": [
    "### Create Dataframe"
   ]
  },
  {
   "cell_type": "code",
   "execution_count": 21,
   "id": "822c4036-6d2b-425e-83c8-cdfc14c6827a",
   "metadata": {
    "tags": []
   },
   "outputs": [],
   "source": [
    "df = pd.DataFrame({'emp_id': emp_ids, 'Age': ages, 'Department': departments})"
   ]
  },
  {
   "cell_type": "code",
   "execution_count": 22,
   "id": "35f4e28e-65af-4ebb-b5a8-010b25cefc21",
   "metadata": {
    "tags": []
   },
   "outputs": [
    {
     "data": {
      "text/html": [
       "<div>\n",
       "<style scoped>\n",
       "    .dataframe tbody tr th:only-of-type {\n",
       "        vertical-align: middle;\n",
       "    }\n",
       "\n",
       "    .dataframe tbody tr th {\n",
       "        vertical-align: top;\n",
       "    }\n",
       "\n",
       "    .dataframe thead th {\n",
       "        text-align: right;\n",
       "    }\n",
       "</style>\n",
       "<table border=\"1\" class=\"dataframe\">\n",
       "  <thead>\n",
       "    <tr style=\"text-align: right;\">\n",
       "      <th></th>\n",
       "      <th>emp_id</th>\n",
       "      <th>Age</th>\n",
       "      <th>Department</th>\n",
       "    </tr>\n",
       "  </thead>\n",
       "  <tbody>\n",
       "    <tr>\n",
       "      <th>0</th>\n",
       "      <td>1</td>\n",
       "      <td>20</td>\n",
       "      <td>Operations</td>\n",
       "    </tr>\n",
       "    <tr>\n",
       "      <th>1</th>\n",
       "      <td>2</td>\n",
       "      <td>21</td>\n",
       "      <td>Marketing</td>\n",
       "    </tr>\n",
       "    <tr>\n",
       "      <th>2</th>\n",
       "      <td>3</td>\n",
       "      <td>18</td>\n",
       "      <td>Marketing</td>\n",
       "    </tr>\n",
       "    <tr>\n",
       "      <th>3</th>\n",
       "      <td>4</td>\n",
       "      <td>25</td>\n",
       "      <td>Operations</td>\n",
       "    </tr>\n",
       "    <tr>\n",
       "      <th>4</th>\n",
       "      <td>5</td>\n",
       "      <td>18</td>\n",
       "      <td>Operations</td>\n",
       "    </tr>\n",
       "    <tr>\n",
       "      <th>...</th>\n",
       "      <td>...</td>\n",
       "      <td>...</td>\n",
       "      <td>...</td>\n",
       "    </tr>\n",
       "    <tr>\n",
       "      <th>95</th>\n",
       "      <td>96</td>\n",
       "      <td>18</td>\n",
       "      <td>Operations</td>\n",
       "    </tr>\n",
       "    <tr>\n",
       "      <th>96</th>\n",
       "      <td>97</td>\n",
       "      <td>20</td>\n",
       "      <td>Marketing</td>\n",
       "    </tr>\n",
       "    <tr>\n",
       "      <th>97</th>\n",
       "      <td>98</td>\n",
       "      <td>23</td>\n",
       "      <td>Finance</td>\n",
       "    </tr>\n",
       "    <tr>\n",
       "      <th>98</th>\n",
       "      <td>99</td>\n",
       "      <td>19</td>\n",
       "      <td>Finance</td>\n",
       "    </tr>\n",
       "    <tr>\n",
       "      <th>99</th>\n",
       "      <td>100</td>\n",
       "      <td>18</td>\n",
       "      <td>Marketing</td>\n",
       "    </tr>\n",
       "  </tbody>\n",
       "</table>\n",
       "<p>100 rows × 3 columns</p>\n",
       "</div>"
      ],
      "text/plain": [
       "    emp_id  Age  Department\n",
       "0        1   20  Operations\n",
       "1        2   21   Marketing\n",
       "2        3   18   Marketing\n",
       "3        4   25  Operations\n",
       "4        5   18  Operations\n",
       "..     ...  ...         ...\n",
       "95      96   18  Operations\n",
       "96      97   20   Marketing\n",
       "97      98   23     Finance\n",
       "98      99   19     Finance\n",
       "99     100   18   Marketing\n",
       "\n",
       "[100 rows x 3 columns]"
      ]
     },
     "execution_count": 22,
     "metadata": {},
     "output_type": "execute_result"
    }
   ],
   "source": [
    "df"
   ]
  },
  {
   "cell_type": "markdown",
   "id": "0f222ffd-287c-46ff-9f41-45c8856e6225",
   "metadata": {},
   "source": [
    "### Perform stratified sampling"
   ]
  },
  {
   "cell_type": "code",
   "execution_count": 27,
   "id": "41e9ed79-e773-4c19-9825-57211269bc27",
   "metadata": {
    "tags": []
   },
   "outputs": [],
   "source": [
    "# Define sample size for each stratum\n",
    "sample_size = 10 "
   ]
  },
  {
   "cell_type": "code",
   "execution_count": 30,
   "id": "b96c94e6-2126-4daa-8dc7-cfad0594afc4",
   "metadata": {
    "tags": []
   },
   "outputs": [
    {
     "data": {
      "text/plain": [
       "array(['Operations', 'Marketing', 'Finance'], dtype=object)"
      ]
     },
     "execution_count": 30,
     "metadata": {},
     "output_type": "execute_result"
    }
   ],
   "source": [
    "# Define strata based on department\n",
    "strata = df['Department'].unique()\n",
    "strata"
   ]
  },
  {
   "cell_type": "code",
   "execution_count": 31,
   "id": "2301ac41-4acc-44c8-93cc-d5b42d700c17",
   "metadata": {
    "tags": []
   },
   "outputs": [],
   "source": [
    "# Perform stratified sampling\n",
    "sampled_data = pd.DataFrame(columns=df.columns)"
   ]
  },
  {
   "cell_type": "code",
   "execution_count": 32,
   "id": "aa62b568-a244-43b7-8558-26dfcb82e0f8",
   "metadata": {
    "tags": []
   },
   "outputs": [],
   "source": [
    "for stratum in strata:\n",
    "    stratum_data = df[df['Department'] == stratum]\n",
    "    sampled_stratum = stratum_data.sample(n=sample_size, random_state=42)\n",
    "    sampled_data = pd.concat([sampled_data, sampled_stratum])"
   ]
  },
  {
   "cell_type": "markdown",
   "id": "656310e6-64fc-4d0e-89ca-b63b58948d05",
   "metadata": {
    "tags": []
   },
   "source": [
    "### Stratified Sampled Data"
   ]
  },
  {
   "cell_type": "code",
   "execution_count": 35,
   "id": "1f18ac67-c0d0-482d-9b48-922a7aeefb17",
   "metadata": {
    "tags": []
   },
   "outputs": [
    {
     "data": {
      "text/html": [
       "<div>\n",
       "<style scoped>\n",
       "    .dataframe tbody tr th:only-of-type {\n",
       "        vertical-align: middle;\n",
       "    }\n",
       "\n",
       "    .dataframe tbody tr th {\n",
       "        vertical-align: top;\n",
       "    }\n",
       "\n",
       "    .dataframe thead th {\n",
       "        text-align: right;\n",
       "    }\n",
       "</style>\n",
       "<table border=\"1\" class=\"dataframe\">\n",
       "  <thead>\n",
       "    <tr style=\"text-align: right;\">\n",
       "      <th></th>\n",
       "      <th>emp_id</th>\n",
       "      <th>Age</th>\n",
       "      <th>Department</th>\n",
       "    </tr>\n",
       "  </thead>\n",
       "  <tbody>\n",
       "    <tr>\n",
       "      <th>43</th>\n",
       "      <td>44</td>\n",
       "      <td>25</td>\n",
       "      <td>Operations</td>\n",
       "    </tr>\n",
       "    <tr>\n",
       "      <th>34</th>\n",
       "      <td>35</td>\n",
       "      <td>23</td>\n",
       "      <td>Operations</td>\n",
       "    </tr>\n",
       "    <tr>\n",
       "      <th>9</th>\n",
       "      <td>10</td>\n",
       "      <td>23</td>\n",
       "      <td>Operations</td>\n",
       "    </tr>\n",
       "    <tr>\n",
       "      <th>74</th>\n",
       "      <td>75</td>\n",
       "      <td>19</td>\n",
       "      <td>Operations</td>\n",
       "    </tr>\n",
       "    <tr>\n",
       "      <th>92</th>\n",
       "      <td>93</td>\n",
       "      <td>21</td>\n",
       "      <td>Operations</td>\n",
       "    </tr>\n",
       "    <tr>\n",
       "      <th>65</th>\n",
       "      <td>66</td>\n",
       "      <td>25</td>\n",
       "      <td>Operations</td>\n",
       "    </tr>\n",
       "    <tr>\n",
       "      <th>23</th>\n",
       "      <td>24</td>\n",
       "      <td>20</td>\n",
       "      <td>Operations</td>\n",
       "    </tr>\n",
       "    <tr>\n",
       "      <th>66</th>\n",
       "      <td>67</td>\n",
       "      <td>19</td>\n",
       "      <td>Operations</td>\n",
       "    </tr>\n",
       "    <tr>\n",
       "      <th>60</th>\n",
       "      <td>61</td>\n",
       "      <td>25</td>\n",
       "      <td>Operations</td>\n",
       "    </tr>\n",
       "    <tr>\n",
       "      <th>39</th>\n",
       "      <td>40</td>\n",
       "      <td>20</td>\n",
       "      <td>Operations</td>\n",
       "    </tr>\n",
       "    <tr>\n",
       "      <th>40</th>\n",
       "      <td>41</td>\n",
       "      <td>18</td>\n",
       "      <td>Marketing</td>\n",
       "    </tr>\n",
       "    <tr>\n",
       "      <th>94</th>\n",
       "      <td>95</td>\n",
       "      <td>22</td>\n",
       "      <td>Marketing</td>\n",
       "    </tr>\n",
       "    <tr>\n",
       "      <th>32</th>\n",
       "      <td>33</td>\n",
       "      <td>21</td>\n",
       "      <td>Marketing</td>\n",
       "    </tr>\n",
       "    <tr>\n",
       "      <th>80</th>\n",
       "      <td>81</td>\n",
       "      <td>19</td>\n",
       "      <td>Marketing</td>\n",
       "    </tr>\n",
       "    <tr>\n",
       "      <th>1</th>\n",
       "      <td>2</td>\n",
       "      <td>21</td>\n",
       "      <td>Marketing</td>\n",
       "    </tr>\n",
       "    <tr>\n",
       "      <th>44</th>\n",
       "      <td>45</td>\n",
       "      <td>20</td>\n",
       "      <td>Marketing</td>\n",
       "    </tr>\n",
       "    <tr>\n",
       "      <th>58</th>\n",
       "      <td>59</td>\n",
       "      <td>18</td>\n",
       "      <td>Marketing</td>\n",
       "    </tr>\n",
       "    <tr>\n",
       "      <th>82</th>\n",
       "      <td>83</td>\n",
       "      <td>21</td>\n",
       "      <td>Marketing</td>\n",
       "    </tr>\n",
       "    <tr>\n",
       "      <th>42</th>\n",
       "      <td>43</td>\n",
       "      <td>20</td>\n",
       "      <td>Marketing</td>\n",
       "    </tr>\n",
       "    <tr>\n",
       "      <th>46</th>\n",
       "      <td>47</td>\n",
       "      <td>22</td>\n",
       "      <td>Marketing</td>\n",
       "    </tr>\n",
       "    <tr>\n",
       "      <th>79</th>\n",
       "      <td>80</td>\n",
       "      <td>23</td>\n",
       "      <td>Finance</td>\n",
       "    </tr>\n",
       "    <tr>\n",
       "      <th>38</th>\n",
       "      <td>39</td>\n",
       "      <td>19</td>\n",
       "      <td>Finance</td>\n",
       "    </tr>\n",
       "    <tr>\n",
       "      <th>73</th>\n",
       "      <td>74</td>\n",
       "      <td>24</td>\n",
       "      <td>Finance</td>\n",
       "    </tr>\n",
       "    <tr>\n",
       "      <th>68</th>\n",
       "      <td>69</td>\n",
       "      <td>21</td>\n",
       "      <td>Finance</td>\n",
       "    </tr>\n",
       "    <tr>\n",
       "      <th>49</th>\n",
       "      <td>50</td>\n",
       "      <td>23</td>\n",
       "      <td>Finance</td>\n",
       "    </tr>\n",
       "    <tr>\n",
       "      <th>88</th>\n",
       "      <td>89</td>\n",
       "      <td>23</td>\n",
       "      <td>Finance</td>\n",
       "    </tr>\n",
       "    <tr>\n",
       "      <th>62</th>\n",
       "      <td>63</td>\n",
       "      <td>25</td>\n",
       "      <td>Finance</td>\n",
       "    </tr>\n",
       "    <tr>\n",
       "      <th>36</th>\n",
       "      <td>37</td>\n",
       "      <td>18</td>\n",
       "      <td>Finance</td>\n",
       "    </tr>\n",
       "    <tr>\n",
       "      <th>22</th>\n",
       "      <td>23</td>\n",
       "      <td>18</td>\n",
       "      <td>Finance</td>\n",
       "    </tr>\n",
       "    <tr>\n",
       "      <th>52</th>\n",
       "      <td>53</td>\n",
       "      <td>19</td>\n",
       "      <td>Finance</td>\n",
       "    </tr>\n",
       "  </tbody>\n",
       "</table>\n",
       "</div>"
      ],
      "text/plain": [
       "   emp_id Age  Department\n",
       "43     44  25  Operations\n",
       "34     35  23  Operations\n",
       "9      10  23  Operations\n",
       "74     75  19  Operations\n",
       "92     93  21  Operations\n",
       "65     66  25  Operations\n",
       "23     24  20  Operations\n",
       "66     67  19  Operations\n",
       "60     61  25  Operations\n",
       "39     40  20  Operations\n",
       "40     41  18   Marketing\n",
       "94     95  22   Marketing\n",
       "32     33  21   Marketing\n",
       "80     81  19   Marketing\n",
       "1       2  21   Marketing\n",
       "44     45  20   Marketing\n",
       "58     59  18   Marketing\n",
       "82     83  21   Marketing\n",
       "42     43  20   Marketing\n",
       "46     47  22   Marketing\n",
       "79     80  23     Finance\n",
       "38     39  19     Finance\n",
       "73     74  24     Finance\n",
       "68     69  21     Finance\n",
       "49     50  23     Finance\n",
       "88     89  23     Finance\n",
       "62     63  25     Finance\n",
       "36     37  18     Finance\n",
       "22     23  18     Finance\n",
       "52     53  19     Finance"
      ]
     },
     "execution_count": 35,
     "metadata": {},
     "output_type": "execute_result"
    }
   ],
   "source": [
    "sampled_data"
   ]
  },
  {
   "cell_type": "markdown",
   "id": "55cf433b-0c8d-4339-b029-88aad783609e",
   "metadata": {},
   "source": [
    "Result DataFrame sampled_data containing a stratified sample of employees, ensuring that the sample is representative of each department."
   ]
  }
 ],
 "metadata": {
  "kernelspec": {
   "display_name": "Python 3 (ipykernel)",
   "language": "python",
   "name": "python3"
  },
  "language_info": {
   "codemirror_mode": {
    "name": "ipython",
    "version": 3
   },
   "file_extension": ".py",
   "mimetype": "text/x-python",
   "name": "python",
   "nbconvert_exporter": "python",
   "pygments_lexer": "ipython3",
   "version": "3.11.4"
  }
 },
 "nbformat": 4,
 "nbformat_minor": 5
}
