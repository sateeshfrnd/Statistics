{
 "cells": [
  {
   "cell_type": "code",
   "execution_count": 17,
   "id": "4cb71b2c-f493-4683-8da1-9b223235fdf1",
   "metadata": {
    "tags": []
   },
   "outputs": [],
   "source": [
    "import numpy as np\n",
    "import pandas as pd\n",
    "import matplotlib.pyplot as plt\n",
    "import seaborn as sns\n",
    "import scipy.stats as stats\n"
   ]
  },
  {
   "cell_type": "code",
   "execution_count": 9,
   "id": "6f2a120c-966e-471b-8984-af9a79a18bc4",
   "metadata": {
    "tags": []
   },
   "outputs": [],
   "source": [
    "# Significance level  (α)\n",
    "alpha = 0.05  # Example significance level (5%)"
   ]
  },
  {
   "cell_type": "markdown",
   "id": "c3645d64-0630-4448-b1c9-1fdb1f17a14c",
   "metadata": {},
   "source": [
    "## Calculate z-critical"
   ]
  },
  {
   "cell_type": "code",
   "execution_count": 10,
   "id": "3b658131-ee22-4db7-a899-d54119f76282",
   "metadata": {
    "tags": []
   },
   "outputs": [
    {
     "name": "stdout",
     "output_type": "stream",
     "text": [
      "Z-Critical Value (Left-tailed): -1.6448536269514729\n"
     ]
    }
   ],
   "source": [
    "# Calculate z-critical value for a one-tailed test (left-tailed)\n",
    "z_critical_left = stats.norm.ppf(alpha)\n",
    "print(\"Z-Critical Value (Left-tailed):\", z_critical_left)"
   ]
  },
  {
   "cell_type": "code",
   "execution_count": 11,
   "id": "ac31da40-8d08-4a40-a00a-9c575f4d1082",
   "metadata": {
    "tags": []
   },
   "outputs": [
    {
     "name": "stdout",
     "output_type": "stream",
     "text": [
      "Z-Critical Value (Right-tailed): 1.6448536269514722\n"
     ]
    }
   ],
   "source": [
    "# Calculate z-critical value for a one-tailed test (right-tailed)\n",
    "z_critical_right = stats.norm.ppf(1 - alpha)\n",
    "print(\"Z-Critical Value (Right-tailed):\", z_critical_right)"
   ]
  },
  {
   "cell_type": "code",
   "execution_count": 12,
   "id": "c6724329-8a17-4f6f-8bc7-fa1568927ab3",
   "metadata": {
    "tags": []
   },
   "outputs": [
    {
     "name": "stdout",
     "output_type": "stream",
     "text": [
      "Z-Critical Value (Two-tailed): 1.959963984540054\n"
     ]
    }
   ],
   "source": [
    "# Calculate z-critical value for a two-tailed test\n",
    "z_critical_two_tailed = stats.norm.ppf(1 - alpha/2)\n",
    "print(\"Z-Critical Value (Two-tailed):\", z_critical_two_tailed)"
   ]
  },
  {
   "cell_type": "code",
   "execution_count": null,
   "id": "461ccf05-d1ca-4657-95fb-7ae53e7144fd",
   "metadata": {},
   "outputs": [],
   "source": [
    "margin_of_error = z"
   ]
  },
  {
   "cell_type": "markdown",
   "id": "d6c2790c-463e-4eea-ac1e-a5a3cbf08355",
   "metadata": {},
   "source": [
    "## Calculate p-critical"
   ]
  },
  {
   "cell_type": "code",
   "execution_count": 7,
   "id": "a7f5cce3-eb8c-4d3e-8c55-da9e2a7c124c",
   "metadata": {
    "tags": []
   },
   "outputs": [
    {
     "name": "stdout",
     "output_type": "stream",
     "text": [
      "P-Critical Value (Two-tailed): 0.95\n"
     ]
    }
   ],
   "source": [
    "# Calculate p-critical value for a two-tailed test\n",
    "p_critical_two_tailed = 1 - alpha\n",
    "print(\"P-Critical Value (Two-tailed):\", p_critical_two_tailed)"
   ]
  },
  {
   "cell_type": "code",
   "execution_count": 8,
   "id": "10c9310c-eea1-43bf-92d4-a216f66679eb",
   "metadata": {
    "tags": []
   },
   "outputs": [
    {
     "name": "stdout",
     "output_type": "stream",
     "text": [
      "P-Critical Value (One-tailed): 0.975\n"
     ]
    }
   ],
   "source": [
    "# Calculate p-critical value for a one-tailed test\n",
    "p_critical_one_tailed = 1 - alpha/2\n",
    "print(\"P-Critical Value (One-tailed):\", p_critical_one_tailed)"
   ]
  },
  {
   "cell_type": "markdown",
   "id": "2ba7c29b-89d9-4aa8-b68a-1639e259837b",
   "metadata": {},
   "source": [
    "## Z-Test"
   ]
  },
  {
   "cell_type": "code",
   "execution_count": 34,
   "id": "b7b5da42-0b6b-4aa1-a729-aba698e2aa8f",
   "metadata": {
    "tags": []
   },
   "outputs": [],
   "source": [
    "from numpy.random import randn\n",
    "population =randn(1000)"
   ]
  },
  {
   "cell_type": "code",
   "execution_count": 35,
   "id": "98da9cb4-743d-4512-9614-7b12975350ca",
   "metadata": {
    "tags": []
   },
   "outputs": [
    {
     "name": "stderr",
     "output_type": "stream",
     "text": [
      "C:\\Users\\satee\\AppData\\Local\\Temp\\ipykernel_31740\\2958836585.py:1: UserWarning: \n",
      "\n",
      "`distplot` is a deprecated function and will be removed in seaborn v0.14.0.\n",
      "\n",
      "Please adapt your code to use either `displot` (a figure-level function with\n",
      "similar flexibility) or `histplot` (an axes-level function for histograms).\n",
      "\n",
      "For a guide to updating your code to use the new functions, please see\n",
      "https://gist.github.com/mwaskom/de44147ed2974457ad6372750bbe5751\n",
      "\n",
      "  sns.distplot(population)\n"
     ]
    },
    {
     "data": {
      "text/plain": [
       "<Axes: ylabel='Density'>"
      ]
     },
     "execution_count": 35,
     "metadata": {},
     "output_type": "execute_result"
    },
    {
     "data": {
      "image/png": "[encoded data removed]",
      "text/plain": [
       "<Figure size 640x480 with 1 Axes>"
      ]
     },
     "metadata": {},
     "output_type": "display_data"
    }
   ],
   "source": [
    "sns.distplot(population)"
   ]
  },
  {
   "cell_type": "code",
   "execution_count": 36,
   "id": "6436032f-6d49-44e3-99b6-98e34f16be1a",
   "metadata": {
    "tags": []
   },
   "outputs": [
    {
     "data": {
      "text/plain": [
       "(0.031430812324097, 0.9829216678272427)"
      ]
     },
     "execution_count": 36,
     "metadata": {},
     "output_type": "execute_result"
    }
   ],
   "source": [
    "np.mean(population), np.std(population)"
   ]
  },
  {
   "cell_type": "code",
   "execution_count": 38,
   "id": "437c4a27-674e-4d9c-b523-d1e913a3f720",
   "metadata": {
    "tags": []
   },
   "outputs": [],
   "source": [
    "# Assume \n",
    "null_mean = 0.05\n",
    "\n",
    "# if pvalue <=0.05 ==> reject null hypothesis\n",
    "# if pvalue > 0.05 ==> Fail to reject null hypothesis\n",
    "\n",
    "from statsmodels.stats.weightstats import ztest"
   ]
  },
  {
   "cell_type": "code",
   "execution_count": 40,
   "id": "0ae6799e-1a05-48f7-8861-04336dcc3a84",
   "metadata": {
    "tags": []
   },
   "outputs": [],
   "source": [
    "zscore , pvalue = ztest(\n",
    "    x1 = population, x2=None, value=0, \n",
    "    alternative='larger', \n",
    "    usevar='pooled',\n",
    "    ddof=1.0)"
   ]
  },
  {
   "cell_type": "code",
   "execution_count": 41,
   "id": "8eadd434-6525-4cba-874d-c953465a9f6b",
   "metadata": {
    "tags": []
   },
   "outputs": [
    {
     "data": {
      "text/plain": [
       "1.010693425498229"
      ]
     },
     "execution_count": 41,
     "metadata": {},
     "output_type": "execute_result"
    }
   ],
   "source": [
    "zscore "
   ]
  },
  {
   "cell_type": "code",
   "execution_count": 42,
   "id": "26a53cbe-78e2-4efa-a20f-3ebc092d119c",
   "metadata": {
    "tags": []
   },
   "outputs": [
    {
     "data": {
      "text/plain": [
       "0.15608159235036223"
      ]
     },
     "execution_count": 42,
     "metadata": {},
     "output_type": "execute_result"
    }
   ],
   "source": [
    "pvalue"
   ]
  },
  {
   "cell_type": "code",
   "execution_count": 43,
   "id": "add0f5e1-f8b9-4be4-a2c8-ee23a81673e1",
   "metadata": {
    "tags": []
   },
   "outputs": [
    {
     "name": "stdout",
     "output_type": "stream",
     "text": [
      "Fail to reject the  Null Hypotesis  H0\n"
     ]
    }
   ],
   "source": [
    "if pvalue <= 0.05 :\n",
    "    print('Reject the Null Hypotesis  H0')\n",
    "else:\n",
    "    print('Fail to reject the  Null Hypotesis  H0')"
   ]
  },
  {
   "cell_type": "code",
   "execution_count": null,
   "id": "094e380b-e307-4dac-b9ed-b22c28ec2633",
   "metadata": {},
   "outputs": [],
   "source": []
  },
  {
   "cell_type": "code",
   "execution_count": 44,
   "id": "1df2bd4e-76da-4a1d-abd6-d5ab190e933c",
   "metadata": {
    "tags": []
   },
   "outputs": [
    {
     "name": "stdout",
     "output_type": "stream",
     "text": [
      "Null Hypothesis Rejected: False\n",
      "Z-score: 1.4285714285714286\n",
      "P-value: 0.9234362744901652\n"
     ]
    }
   ],
   "source": [
    "from scipy.stats import norm\n",
    "\n",
    "def z_test(sample_mean, population_stddev, sample_size, population_mean, alpha):\n",
    "    # Calculate the z-score\n",
    "    z = (sample_mean - population_mean) / (population_stddev / (sample_size ** 0.5))\n",
    "    \n",
    "    # Calculate the p-value\n",
    "    p_value = norm.cdf(z)  # For a one-tailed test\n",
    "    \n",
    "    # Calculte the z-critical\n",
    "    zcritical = norm.ppf(1-alpha)\n",
    "    \n",
    "     # Determine if null hypothesis can be rejected\n",
    "    if z < zcritical:\n",
    "        print('')\n",
    "    else:\n",
    "        print('')\n",
    "    \n",
    "    \n",
    "    # Determine if null hypothesis can be rejected\n",
    "    if p_value < alpha:\n",
    "        return True, z, p_value\n",
    "    else:\n",
    "        return False, z, p_value\n",
    "\n",
    "# Example usage:\n",
    "sample_mean = 12.5  # Sample mean\n",
    "population_stddev = 3.5  # Population standard deviation\n",
    "sample_size = 100  # Sample size\n",
    "population_mean = 12  # Population mean under null hypothesis\n",
    "alpha = 0.05  # Significance level\n",
    "\n",
    "reject_null, z_score, p_value = z_test(sample_mean, population_stddev, sample_size, population_mean, alpha)\n",
    "print(\"Null Hypothesis Rejected:\", reject_null)\n",
    "print(\"Z-score:\", z_score)\n",
    "print(\"P-value:\", p_value)\n"
   ]
  },
  {
   "cell_type": "code",
   "execution_count": 45,
   "id": "8903b1e5-37e0-4ff1-a613-a24a6a4e7f26",
   "metadata": {
    "tags": []
   },
   "outputs": [
    {
     "data": {
      "text/plain": [
       "(False, 4.419417382415922, 0.9999950516326874)"
      ]
     },
     "execution_count": 45,
     "metadata": {},
     "output_type": "execute_result"
    }
   ],
   "source": [
    "z_test(sample_mean =100, population_stddev = 16, sample_size=50, population_mean=90, alpha=0.05)"
   ]
  },
  {
   "cell_type": "markdown",
   "id": "149f8e34-e67d-4d14-bca4-3e94d32533f3",
   "metadata": {},
   "source": [
    "# T-test\n",
    "\n",
    "ss < 30 or sigma of populataion is not given\n",
    "\n",
    "- one sample t test (w.r.t one independent  sample)\n",
    "- two sample t test (w.r.t two independent  sample)\n",
    "- paired t test (two samples from same population from different time interval)"
   ]
  },
  {
   "cell_type": "markdown",
   "id": "d2fcc5e7-bdcf-4381-a449-67fcfbed301c",
   "metadata": {},
   "source": [
    "### one Sample  T-Test"
   ]
  },
  {
   "cell_type": "code",
   "execution_count": 52,
   "id": "e554a0dd-bd67-4d2d-890f-35195c1fcf0c",
   "metadata": {
    "tags": []
   },
   "outputs": [
    {
     "data": {
      "text/plain": [
       "array([   3,   24,  -13,  -62,  -44,   77,  -16,    7,   -5,  -32,    9,\n",
       "       -103,   -8,   28,   40,   93,  -31,   73,  -25,   42,   67,  -20,\n",
       "         48,   -8,    0,   33,   94,   82,   26,   35,   47,    9,   -4,\n",
       "        -84,  -26,   31,    1,   93,   32,  -27,   58,   -1,  -54,  -20,\n",
       "         28,    2,  -18,  -24,  -82,   17])"
      ]
     },
     "execution_count": 52,
     "metadata": {},
     "output_type": "execute_result"
    }
   ],
   "source": [
    "population_mean = 10\n",
    "population_stddev = 50\n",
    "population_size = 50\n",
    "population = np.random.normal(population_mean, population_stddev, population_size).astype(int)\n",
    "population"
   ]
  },
  {
   "cell_type": "code",
   "execution_count": 53,
   "id": "e75f430d-a8e2-4e3e-8296-8a39fa4ff955",
   "metadata": {
    "tags": []
   },
   "outputs": [
    {
     "data": {
      "text/plain": [
       "array([   3,   24,  -13,  -62,  -44,   77,  -16,    7,   -5,  -32,    9,\n",
       "       -103,   -8,   28,   40,   93,  -31,   73,  -25,   42,   67,  -20,\n",
       "         48,   -8,    0,   33,   94,   82,   26,   35,   47,    9,   -4,\n",
       "        -84,  -26,   31,    1,   93,   32,  -27,   58,   -1,  -54,  -20,\n",
       "         28,    2,  -18,  -24,  -82,   17])"
      ]
     },
     "execution_count": 53,
     "metadata": {},
     "output_type": "execute_result"
    }
   ],
   "source": [
    "popultation = np.random.randint(10,50,50)\n",
    "population"
   ]
  },
  {
   "cell_type": "code",
   "execution_count": null,
   "id": "003d7166-1fd3-43ef-b13a-0adda38f4168",
   "metadata": {},
   "outputs": [],
   "source": []
  },
  {
   "cell_type": "code",
   "execution_count": 56,
   "id": "9004a028-6186-4b74-8252-5e665a147f5d",
   "metadata": {
    "tags": []
   },
   "outputs": [
    {
     "data": {
      "text/plain": [
       "array([ 87,  64,  66,  82,  23,  13,  35,  44,  15,  44,  51,   3,  52,\n",
       "        95,  38, 100,  43,  44,  70,   5])"
      ]
     },
     "execution_count": 56,
     "metadata": {},
     "output_type": "execute_result"
    }
   ],
   "source": [
    "population = np.arange(1, 101)\n",
    "score1 = np.random.choice(population,20)\n",
    "score1"
   ]
  },
  {
   "cell_type": "code",
   "execution_count": 57,
   "id": "0b2b42d4-fbb8-4d75-8c8f-69e8f08c43ee",
   "metadata": {
    "tags": []
   },
   "outputs": [
    {
     "data": {
      "text/plain": [
       "array([42, 89, 99, 55, 98, 67, 40, 45,  4, 56, 90, 98, 98, 23, 84,  9, 58,\n",
       "       82, 47, 57])"
      ]
     },
     "execution_count": 57,
     "metadata": {},
     "output_type": "execute_result"
    }
   ],
   "source": [
    "population = np.arange(1, 101)\n",
    "score2 = np.random.choice(population,20)\n",
    "score2"
   ]
  },
  {
   "cell_type": "code",
   "execution_count": 58,
   "id": "bc314ded-1909-46be-aef6-5810d6a203f0",
   "metadata": {
    "tags": []
   },
   "outputs": [
    {
     "data": {
      "text/plain": [
       "(48.7, 62.05)"
      ]
     },
     "execution_count": 58,
     "metadata": {},
     "output_type": "execute_result"
    }
   ],
   "source": [
    "np.mean(score1), np.mean(score2)"
   ]
  },
  {
   "cell_type": "code",
   "execution_count": 60,
   "id": "0a5377ae-c6ea-4c6b-8fe1-12008c031880",
   "metadata": {
    "tags": []
   },
   "outputs": [
    {
     "data": {
      "text/plain": [
       "Ttest_indResult(statistic=-1.4386620400365315, pvalue=0.15843243538958654)"
      ]
     },
     "execution_count": 60,
     "metadata": {},
     "output_type": "execute_result"
    }
   ],
   "source": [
    "stats.ttest_ind(score1,score2)"
   ]
  },
  {
   "cell_type": "markdown",
   "id": "fea4a804-3403-482a-9d5c-19ce7b438ede",
   "metadata": {},
   "source": [
    "if  pvalue > 0.05 : fail to reject the H0"
   ]
  },
  {
   "cell_type": "markdown",
   "id": "32d7f5ab-0c90-483c-9652-660ad69ad9ba",
   "metadata": {},
   "source": [
    "### paired t test >> two sample from same poplution at different time interval"
   ]
  },
  {
   "cell_type": "code",
   "execution_count": null,
   "id": "3e07283f-813f-4c98-a28f-bc72d3bc1086",
   "metadata": {},
   "outputs": [],
   "source": []
  }
 ],
 "metadata": {
  "kernelspec": {
   "display_name": "Python 3 (ipykernel)",
   "language": "python",
   "name": "python3"
  },
  "language_info": {
   "codemirror_mode": {
    "name": "ipython",
    "version": 3
   },
   "file_extension": ".py",
   "mimetype": "text/x-python",
   "name": "python",
   "nbconvert_exporter": "python",
   "pygments_lexer": "ipython3",
   "version": "3.9.19"
  }
 },
 "nbformat": 4,
 "nbformat_minor": 5
}
