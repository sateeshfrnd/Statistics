{
 "cells": [
  {
   "cell_type": "markdown",
   "id": "08500c06-6d5d-46bc-9ced-172c154d48eb",
   "metadata": {},
   "source": [
    "# Systematic Sampling\n",
    "Systematic sampling is a technique used to select a random sample from a larger population. It involves selecting every kth element from the population, where k is a fixed interval calculated based on the population size and desired sample size."
   ]
  },
  {
   "cell_type": "markdown",
   "id": "7348dbb6-d9a2-49de-8149-eece1e67f6b5",
   "metadata": {},
   "source": [
    "## Example\n",
    "\n",
    "Let's assume we have a dataset with employee IDs, ages, and departments. We want to perform systematic sampling by selecting every 10th employee from the population."
   ]
  },
  {
   "cell_type": "code",
   "execution_count": 1,
   "id": "16b79494-2d1f-49f3-900b-f540b20b7342",
   "metadata": {
    "tags": []
   },
   "outputs": [],
   "source": [
    "import pandas as pd\n",
    "import random"
   ]
  },
  {
   "cell_type": "markdown",
   "id": "6449c3da-55b4-4813-930b-0d25ef133a80",
   "metadata": {},
   "source": [
    "### Create sample student data with employee id, age and department."
   ]
  },
  {
   "cell_type": "code",
   "execution_count": 2,
   "id": "b0e4a601-9847-4ed2-ab39-3d1c09e4ea47",
   "metadata": {
    "tags": []
   },
   "outputs": [],
   "source": [
    "# Number of employees\n",
    "num_emp = 100\n",
    "\n",
    "# Generate random employee IDs\n",
    "emp_ids = range(1, num_emp + 1)\n",
    "\n",
    "# Generate random ages for employees\n",
    "ages = [random.randint(18, 25) for _ in range(num_emp)]\n",
    "\n",
    "# GEnerate data for three departments\n",
    "departments = [random.choice(['Marketing', 'Finance', 'Operations']) for _ in range(num_emp)]"
   ]
  },
  {
   "cell_type": "code",
   "execution_count": 3,
   "id": "2d950a0f-5ea7-4b57-8561-52e8277a0c2f",
   "metadata": {
    "tags": []
   },
   "outputs": [
    {
     "data": {
      "text/plain": [
       "range(1, 101)"
      ]
     },
     "execution_count": 3,
     "metadata": {},
     "output_type": "execute_result"
    }
   ],
   "source": [
    "emp_ids"
   ]
  },
  {
   "cell_type": "code",
   "execution_count": 4,
   "id": "7d74e3da-ad26-4464-aae6-b4b06d4fd628",
   "metadata": {
    "tags": []
   },
   "outputs": [
    {
     "data": {
      "text/plain": [
       "'[23, 25, 23, 24, 25, 19, 25, 18, 25, 25, 18, 22, 19, 22, 19, 21, 22, 21, 19, 20, 22, 18, 24, 20, 20, 21, 22, 19, 24, 22, 22, 19, 22, 20, 25, 21, 22, 22, 23, 19, 22, 18, 24, 24, 19, 25, 20, 22, 19, 24, 22, 21, 20, 18, 25, 23, 25, 24, 22, 21, 21, 25, 24, 23, 21, 22, 18, 25, 23, 18, 18, 19, 23, 22, 21, 25, 22, 22, 24, 20, 19, 23, 24, 21, 24, 20, 22, 23, 20, 20, 18, 21, 22, 20, 18, 24, 22, 18, 20, 18]'"
      ]
     },
     "execution_count": 4,
     "metadata": {},
     "output_type": "execute_result"
    }
   ],
   "source": [
    "str(ages)"
   ]
  },
  {
   "cell_type": "code",
   "execution_count": 5,
   "id": "005623c0-8a51-4d83-a0ea-7cf28595a59c",
   "metadata": {
    "tags": []
   },
   "outputs": [
    {
     "data": {
      "text/plain": [
       "\"['Marketing', 'Operations', 'Marketing', 'Operations', 'Marketing', 'Finance', 'Marketing', 'Operations', 'Marketing', 'Marketing', 'Marketing', 'Finance', 'Operations', 'Operations', 'Marketing', 'Finance', 'Finance', 'Marketing', 'Finance', 'Marketing', 'Marketing', 'Marketing', 'Marketing', 'Finance', 'Finance', 'Operations', 'Operations', 'Finance', 'Finance', 'Operations', 'Marketing', 'Operations', 'Operations', 'Finance', 'Operations', 'Finance', 'Marketing', 'Operations', 'Operations', 'Finance', 'Marketing', 'Operations', 'Marketing', 'Finance', 'Marketing', 'Finance', 'Marketing', 'Finance', 'Marketing', 'Finance', 'Finance', 'Finance', 'Marketing', 'Operations', 'Marketing', 'Finance', 'Marketing', 'Marketing', 'Marketing', 'Marketing', 'Marketing', 'Marketing', 'Operations', 'Operations', 'Finance', 'Marketing', 'Finance', 'Operations', 'Finance', 'Finance', 'Finance', 'Finance', 'Operations', 'Finance', 'Finance', 'Marketing', 'Marketing', 'Operations', 'Marketing', 'Finance', 'Operations', 'Operations', 'Operations', 'Finance', 'Operations', 'Operations', 'Operations', 'Finance', 'Marketing', 'Operations', 'Marketing', 'Operations', 'Marketing', 'Marketing', 'Finance', 'Finance', 'Operations', 'Finance', 'Marketing', 'Finance']\""
      ]
     },
     "execution_count": 5,
     "metadata": {},
     "output_type": "execute_result"
    }
   ],
   "source": [
    "str(departments)"
   ]
  },
  {
   "cell_type": "code",
   "execution_count": 6,
   "id": "8fd45323-87d6-4ed8-9b41-435a441a0c79",
   "metadata": {
    "tags": []
   },
   "outputs": [
    {
     "data": {
      "text/plain": [
       "100"
      ]
     },
     "execution_count": 6,
     "metadata": {},
     "output_type": "execute_result"
    }
   ],
   "source": [
    "len(departments)"
   ]
  },
  {
   "cell_type": "markdown",
   "id": "664a0f16-4399-48ec-93df-97ffaafd6b41",
   "metadata": {},
   "source": [
    "### Create Dataframe"
   ]
  },
  {
   "cell_type": "code",
   "execution_count": 7,
   "id": "822c4036-6d2b-425e-83c8-cdfc14c6827a",
   "metadata": {
    "tags": []
   },
   "outputs": [],
   "source": [
    "df = pd.DataFrame({'emp_id': emp_ids, 'Age': ages, 'Department': departments})"
   ]
  },
  {
   "cell_type": "code",
   "execution_count": 8,
   "id": "35f4e28e-65af-4ebb-b5a8-010b25cefc21",
   "metadata": {
    "tags": []
   },
   "outputs": [
    {
     "data": {
      "text/html": [
       "<div>\n",
       "<style scoped>\n",
       "    .dataframe tbody tr th:only-of-type {\n",
       "        vertical-align: middle;\n",
       "    }\n",
       "\n",
       "    .dataframe tbody tr th {\n",
       "        vertical-align: top;\n",
       "    }\n",
       "\n",
       "    .dataframe thead th {\n",
       "        text-align: right;\n",
       "    }\n",
       "</style>\n",
       "<table border=\"1\" class=\"dataframe\">\n",
       "  <thead>\n",
       "    <tr style=\"text-align: right;\">\n",
       "      <th></th>\n",
       "      <th>emp_id</th>\n",
       "      <th>Age</th>\n",
       "      <th>Department</th>\n",
       "    </tr>\n",
       "  </thead>\n",
       "  <tbody>\n",
       "    <tr>\n",
       "      <th>0</th>\n",
       "      <td>1</td>\n",
       "      <td>23</td>\n",
       "      <td>Marketing</td>\n",
       "    </tr>\n",
       "    <tr>\n",
       "      <th>1</th>\n",
       "      <td>2</td>\n",
       "      <td>25</td>\n",
       "      <td>Operations</td>\n",
       "    </tr>\n",
       "    <tr>\n",
       "      <th>2</th>\n",
       "      <td>3</td>\n",
       "      <td>23</td>\n",
       "      <td>Marketing</td>\n",
       "    </tr>\n",
       "    <tr>\n",
       "      <th>3</th>\n",
       "      <td>4</td>\n",
       "      <td>24</td>\n",
       "      <td>Operations</td>\n",
       "    </tr>\n",
       "    <tr>\n",
       "      <th>4</th>\n",
       "      <td>5</td>\n",
       "      <td>25</td>\n",
       "      <td>Marketing</td>\n",
       "    </tr>\n",
       "    <tr>\n",
       "      <th>...</th>\n",
       "      <td>...</td>\n",
       "      <td>...</td>\n",
       "      <td>...</td>\n",
       "    </tr>\n",
       "    <tr>\n",
       "      <th>95</th>\n",
       "      <td>96</td>\n",
       "      <td>24</td>\n",
       "      <td>Finance</td>\n",
       "    </tr>\n",
       "    <tr>\n",
       "      <th>96</th>\n",
       "      <td>97</td>\n",
       "      <td>22</td>\n",
       "      <td>Operations</td>\n",
       "    </tr>\n",
       "    <tr>\n",
       "      <th>97</th>\n",
       "      <td>98</td>\n",
       "      <td>18</td>\n",
       "      <td>Finance</td>\n",
       "    </tr>\n",
       "    <tr>\n",
       "      <th>98</th>\n",
       "      <td>99</td>\n",
       "      <td>20</td>\n",
       "      <td>Marketing</td>\n",
       "    </tr>\n",
       "    <tr>\n",
       "      <th>99</th>\n",
       "      <td>100</td>\n",
       "      <td>18</td>\n",
       "      <td>Finance</td>\n",
       "    </tr>\n",
       "  </tbody>\n",
       "</table>\n",
       "<p>100 rows × 3 columns</p>\n",
       "</div>"
      ],
      "text/plain": [
       "    emp_id  Age  Department\n",
       "0        1   23   Marketing\n",
       "1        2   25  Operations\n",
       "2        3   23   Marketing\n",
       "3        4   24  Operations\n",
       "4        5   25   Marketing\n",
       "..     ...  ...         ...\n",
       "95      96   24     Finance\n",
       "96      97   22  Operations\n",
       "97      98   18     Finance\n",
       "98      99   20   Marketing\n",
       "99     100   18     Finance\n",
       "\n",
       "[100 rows x 3 columns]"
      ]
     },
     "execution_count": 8,
     "metadata": {},
     "output_type": "execute_result"
    }
   ],
   "source": [
    "df"
   ]
  },
  {
   "cell_type": "markdown",
   "id": "0f222ffd-287c-46ff-9f41-45c8856e6225",
   "metadata": {},
   "source": [
    "### Perform systematic sampling"
   ]
  },
  {
   "cell_type": "code",
   "execution_count": 9,
   "id": "41e9ed79-e773-4c19-9825-57211269bc27",
   "metadata": {
    "tags": []
   },
   "outputs": [],
   "source": [
    "# Define sampling interval (k)\n",
    "sampling_interval = 10"
   ]
  },
  {
   "cell_type": "code",
   "execution_count": 10,
   "id": "b96c94e6-2126-4daa-8dc7-cfad0594afc4",
   "metadata": {
    "tags": []
   },
   "outputs": [],
   "source": [
    "# Perform systematic sampling\n",
    "sampled_data = df[df.index % sampling_interval == 0]"
   ]
  },
  {
   "cell_type": "markdown",
   "id": "656310e6-64fc-4d0e-89ca-b63b58948d05",
   "metadata": {
    "tags": []
   },
   "source": [
    "### Systematic Sampled Data"
   ]
  },
  {
   "cell_type": "code",
   "execution_count": 11,
   "id": "1f18ac67-c0d0-482d-9b48-922a7aeefb17",
   "metadata": {
    "tags": []
   },
   "outputs": [
    {
     "data": {
      "text/html": [
       "<div>\n",
       "<style scoped>\n",
       "    .dataframe tbody tr th:only-of-type {\n",
       "        vertical-align: middle;\n",
       "    }\n",
       "\n",
       "    .dataframe tbody tr th {\n",
       "        vertical-align: top;\n",
       "    }\n",
       "\n",
       "    .dataframe thead th {\n",
       "        text-align: right;\n",
       "    }\n",
       "</style>\n",
       "<table border=\"1\" class=\"dataframe\">\n",
       "  <thead>\n",
       "    <tr style=\"text-align: right;\">\n",
       "      <th></th>\n",
       "      <th>emp_id</th>\n",
       "      <th>Age</th>\n",
       "      <th>Department</th>\n",
       "    </tr>\n",
       "  </thead>\n",
       "  <tbody>\n",
       "    <tr>\n",
       "      <th>0</th>\n",
       "      <td>1</td>\n",
       "      <td>23</td>\n",
       "      <td>Marketing</td>\n",
       "    </tr>\n",
       "    <tr>\n",
       "      <th>10</th>\n",
       "      <td>11</td>\n",
       "      <td>18</td>\n",
       "      <td>Marketing</td>\n",
       "    </tr>\n",
       "    <tr>\n",
       "      <th>20</th>\n",
       "      <td>21</td>\n",
       "      <td>22</td>\n",
       "      <td>Marketing</td>\n",
       "    </tr>\n",
       "    <tr>\n",
       "      <th>30</th>\n",
       "      <td>31</td>\n",
       "      <td>22</td>\n",
       "      <td>Marketing</td>\n",
       "    </tr>\n",
       "    <tr>\n",
       "      <th>40</th>\n",
       "      <td>41</td>\n",
       "      <td>22</td>\n",
       "      <td>Marketing</td>\n",
       "    </tr>\n",
       "    <tr>\n",
       "      <th>50</th>\n",
       "      <td>51</td>\n",
       "      <td>22</td>\n",
       "      <td>Finance</td>\n",
       "    </tr>\n",
       "    <tr>\n",
       "      <th>60</th>\n",
       "      <td>61</td>\n",
       "      <td>21</td>\n",
       "      <td>Marketing</td>\n",
       "    </tr>\n",
       "    <tr>\n",
       "      <th>70</th>\n",
       "      <td>71</td>\n",
       "      <td>18</td>\n",
       "      <td>Finance</td>\n",
       "    </tr>\n",
       "    <tr>\n",
       "      <th>80</th>\n",
       "      <td>81</td>\n",
       "      <td>19</td>\n",
       "      <td>Operations</td>\n",
       "    </tr>\n",
       "    <tr>\n",
       "      <th>90</th>\n",
       "      <td>91</td>\n",
       "      <td>18</td>\n",
       "      <td>Marketing</td>\n",
       "    </tr>\n",
       "  </tbody>\n",
       "</table>\n",
       "</div>"
      ],
      "text/plain": [
       "    emp_id  Age  Department\n",
       "0        1   23   Marketing\n",
       "10      11   18   Marketing\n",
       "20      21   22   Marketing\n",
       "30      31   22   Marketing\n",
       "40      41   22   Marketing\n",
       "50      51   22     Finance\n",
       "60      61   21   Marketing\n",
       "70      71   18     Finance\n",
       "80      81   19  Operations\n",
       "90      91   18   Marketing"
      ]
     },
     "execution_count": 11,
     "metadata": {},
     "output_type": "execute_result"
    }
   ],
   "source": [
    "sampled_data"
   ]
  },
  {
   "cell_type": "markdown",
   "id": "20b8e8d3-282c-4a35-8d8a-9dccc87f8573",
   "metadata": {},
   "source": [
    "Result DataFrame sampled_data containing a systematic sample of employee, where every 10th employee from the population is selected. "
   ]
  },
  {
   "cell_type": "code",
   "execution_count": null,
   "id": "de68a0dc-1d47-4592-97e2-8bb539c0894a",
   "metadata": {},
   "outputs": [],
   "source": []
  }
 ],
 "metadata": {
  "kernelspec": {
   "display_name": "Python 3 (ipykernel)",
   "language": "python",
   "name": "python3"
  },
  "language_info": {
   "codemirror_mode": {
    "name": "ipython",
    "version": 3
   },
   "file_extension": ".py",
   "mimetype": "text/x-python",
   "name": "python",
   "nbconvert_exporter": "python",
   "pygments_lexer": "ipython3",
   "version": "3.11.4"
  }
 },
 "nbformat": 4,
 "nbformat_minor": 5
}
