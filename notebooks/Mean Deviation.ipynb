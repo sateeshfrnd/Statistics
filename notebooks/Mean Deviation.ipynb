{
 "cells": [
  {
   "cell_type": "markdown",
   "id": "b3089e63-52b0-4887-ac09-c37ae7a31ad8",
   "metadata": {},
   "source": [
    "# Mean Deviation\n",
    "\n",
    "You can calculate the mean deviation (also known as the mean absolute deviation) in Python using various libraries such as NumPy or pandas."
   ]
  },
  {
   "cell_type": "markdown",
   "id": "bc50dd70-4d39-4fff-bddf-ba3798b84a58",
   "metadata": {},
   "source": [
    "## NumPy"
   ]
  },
  {
   "cell_type": "code",
   "execution_count": 1,
   "id": "6ecf947d-5279-469c-bc17-d6fdcd04944b",
   "metadata": {
    "tags": []
   },
   "outputs": [
    {
     "name": "stdout",
     "output_type": "stream",
     "text": [
      "Mean Deviation: 4.84375\n"
     ]
    }
   ],
   "source": [
    "import numpy as np\n",
    "\n",
    "# Example dataset\n",
    "data = np.array([85, 90, 88, 92, 75, 85, 80, 78])\n",
    "\n",
    "# Calculate the mean\n",
    "mean = np.mean(data)\n",
    "\n",
    "# Calculate the absolute deviations from the mean\n",
    "abs_deviations = np.abs(data - mean)\n",
    "\n",
    "# Calculate the mean deviation\n",
    "mean_deviation = np.mean(abs_deviations)\n",
    "\n",
    "print(\"Mean Deviation:\", mean_deviation)\n"
   ]
  },
  {
   "cell_type": "markdown",
   "id": "c34b59c3-104f-41f2-b4d2-8f8a5a63a7e6",
   "metadata": {},
   "source": [
    "## Pandas"
   ]
  },
  {
   "cell_type": "code",
   "execution_count": 2,
   "id": "ae8f92ab-d966-4a1b-af72-d189aee16cd6",
   "metadata": {
    "tags": []
   },
   "outputs": [
    {
     "name": "stdout",
     "output_type": "stream",
     "text": [
      "Mean Deviation: 4.84375\n"
     ]
    }
   ],
   "source": [
    "import pandas as pd\n",
    "\n",
    "# Example dataset\n",
    "data = pd.Series([85, 90, 88, 92, 75, 85, 80, 78])\n",
    "\n",
    "# Calculate the mean\n",
    "mean = data.mean()\n",
    "\n",
    "# Calculate the absolute deviations from the mean\n",
    "abs_deviations = data.sub(mean).abs()\n",
    "\n",
    "# Calculate the mean deviation\n",
    "mean_deviation = abs_deviations.mean()\n",
    "\n",
    "print(\"Mean Deviation:\", mean_deviation)\n"
   ]
  }
 ],
 "metadata": {
  "kernelspec": {
   "display_name": "Python 3 (ipykernel)",
   "language": "python",
   "name": "python3"
  },
  "language_info": {
   "codemirror_mode": {
    "name": "ipython",
    "version": 3
   },
   "file_extension": ".py",
   "mimetype": "text/x-python",
   "name": "python",
   "nbconvert_exporter": "python",
   "pygments_lexer": "ipython3",
   "version": "3.11.4"
  }
 },
 "nbformat": 4,
 "nbformat_minor": 5
}
