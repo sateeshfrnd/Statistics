{
 "cells": [
  {
   "cell_type": "markdown",
   "id": "761ab5f8-893e-4d06-adec-af8659ad1570",
   "metadata": {},
   "source": [
    "# Simple Random Sampling"
   ]
  },
  {
   "cell_type": "markdown",
   "id": "b2efd903-652e-42a5-bd65-812686912501",
   "metadata": {},
   "source": [
    "In this technique, each individual in the population has an equal chance of being selected, and every possible sample of a given size has the same probability of being chosen. It's like drawing names out of a hat."
   ]
  },
  {
   "cell_type": "markdown",
   "id": "bfc5e323-c599-4a00-a821-8382142d63b3",
   "metadata": {},
   "source": [
    "## Example"
   ]
  },
  {
   "cell_type": "code",
   "execution_count": 1,
   "id": "96704207-8739-45fd-a6b8-92215dfe380a",
   "metadata": {
    "tags": []
   },
   "outputs": [],
   "source": [
    "import pandas as pd\n",
    "import random"
   ]
  },
  {
   "cell_type": "markdown",
   "id": "7902c9ee-0779-44e0-b327-8f434a495183",
   "metadata": {},
   "source": [
    "### Create sample student data with student id's and age."
   ]
  },
  {
   "cell_type": "code",
   "execution_count": 3,
   "id": "1348f882-bb78-4223-a866-51481d94a85a",
   "metadata": {
    "tags": []
   },
   "outputs": [],
   "source": [
    "# Number of students\n",
    "num_students = 100\n",
    "\n",
    "# Generate random student IDs\n",
    "student_ids = range(1, num_students + 1)\n",
    "\n",
    "# Generate random ages for students\n",
    "ages = [random.randint(18, 25) for _ in range(num_students)]"
   ]
  },
  {
   "cell_type": "code",
   "execution_count": 4,
   "id": "dcfb7543-e8f8-4d57-8908-b3c11edb2431",
   "metadata": {
    "tags": []
   },
   "outputs": [
    {
     "data": {
      "text/plain": [
       "range(1, 101)"
      ]
     },
     "execution_count": 4,
     "metadata": {},
     "output_type": "execute_result"
    }
   ],
   "source": [
    "student_ids"
   ]
  },
  {
   "cell_type": "code",
   "execution_count": 6,
   "id": "a6cff30b-06e8-424d-af3d-15f748ca01d6",
   "metadata": {
    "tags": []
   },
   "outputs": [
    {
     "data": {
      "text/plain": [
       "'[19, 25, 24, 21, 25, 18, 20, 23, 23, 25, 25, 25, 19, 19, 22, 20, 20, 25, 24, 18, 25, 19, 23, 20, 21, 19, 24, 23, 22, 18, 20, 19, 25, 18, 21, 24, 24, 22, 23, 23, 25, 21, 24, 22, 25, 25, 24, 21, 18, 20, 25, 19, 24, 23, 19, 23, 23, 24, 22, 19, 22, 25, 19, 24, 20, 24, 22, 24, 18, 24, 24, 25, 20, 19, 22, 18, 22, 19, 20, 18, 23, 25, 24, 21, 24, 21, 22, 23, 25, 22, 22, 22, 18, 19, 19, 25, 19, 18, 21, 25]'"
      ]
     },
     "execution_count": 6,
     "metadata": {},
     "output_type": "execute_result"
    }
   ],
   "source": [
    "str(ages)"
   ]
  },
  {
   "cell_type": "code",
   "execution_count": 7,
   "id": "03136b21-356f-4793-8a27-83be02c79be8",
   "metadata": {
    "tags": []
   },
   "outputs": [
    {
     "data": {
      "text/html": [
       "<div>\n",
       "<style scoped>\n",
       "    .dataframe tbody tr th:only-of-type {\n",
       "        vertical-align: middle;\n",
       "    }\n",
       "\n",
       "    .dataframe tbody tr th {\n",
       "        vertical-align: top;\n",
       "    }\n",
       "\n",
       "    .dataframe thead th {\n",
       "        text-align: right;\n",
       "    }\n",
       "</style>\n",
       "<table border=\"1\" class=\"dataframe\">\n",
       "  <thead>\n",
       "    <tr style=\"text-align: right;\">\n",
       "      <th></th>\n",
       "      <th>Student_ID</th>\n",
       "      <th>Age</th>\n",
       "    </tr>\n",
       "  </thead>\n",
       "  <tbody>\n",
       "    <tr>\n",
       "      <th>0</th>\n",
       "      <td>1</td>\n",
       "      <td>19</td>\n",
       "    </tr>\n",
       "    <tr>\n",
       "      <th>1</th>\n",
       "      <td>2</td>\n",
       "      <td>25</td>\n",
       "    </tr>\n",
       "    <tr>\n",
       "      <th>2</th>\n",
       "      <td>3</td>\n",
       "      <td>24</td>\n",
       "    </tr>\n",
       "    <tr>\n",
       "      <th>3</th>\n",
       "      <td>4</td>\n",
       "      <td>21</td>\n",
       "    </tr>\n",
       "    <tr>\n",
       "      <th>4</th>\n",
       "      <td>5</td>\n",
       "      <td>25</td>\n",
       "    </tr>\n",
       "    <tr>\n",
       "      <th>...</th>\n",
       "      <td>...</td>\n",
       "      <td>...</td>\n",
       "    </tr>\n",
       "    <tr>\n",
       "      <th>95</th>\n",
       "      <td>96</td>\n",
       "      <td>25</td>\n",
       "    </tr>\n",
       "    <tr>\n",
       "      <th>96</th>\n",
       "      <td>97</td>\n",
       "      <td>19</td>\n",
       "    </tr>\n",
       "    <tr>\n",
       "      <th>97</th>\n",
       "      <td>98</td>\n",
       "      <td>18</td>\n",
       "    </tr>\n",
       "    <tr>\n",
       "      <th>98</th>\n",
       "      <td>99</td>\n",
       "      <td>21</td>\n",
       "    </tr>\n",
       "    <tr>\n",
       "      <th>99</th>\n",
       "      <td>100</td>\n",
       "      <td>25</td>\n",
       "    </tr>\n",
       "  </tbody>\n",
       "</table>\n",
       "<p>100 rows × 2 columns</p>\n",
       "</div>"
      ],
      "text/plain": [
       "    Student_ID  Age\n",
       "0            1   19\n",
       "1            2   25\n",
       "2            3   24\n",
       "3            4   21\n",
       "4            5   25\n",
       "..         ...  ...\n",
       "95          96   25\n",
       "96          97   19\n",
       "97          98   18\n",
       "98          99   21\n",
       "99         100   25\n",
       "\n",
       "[100 rows x 2 columns]"
      ]
     },
     "execution_count": 7,
     "metadata": {},
     "output_type": "execute_result"
    }
   ],
   "source": [
    "# Create a DataFrame representing the population (in this case, student IDs and Age)\n",
    "df = pd.DataFrame({'Student_ID': student_ids, 'Age': ages})\n",
    "df"
   ]
  },
  {
   "cell_type": "markdown",
   "id": "c4ae670a-b323-432f-b6d6-7a7228b119fe",
   "metadata": {},
   "source": [
    "### Perform simple random sampling"
   ]
  },
  {
   "cell_type": "code",
   "execution_count": 10,
   "id": "340a1c42-961d-41f3-b9f8-5acb562f14c2",
   "metadata": {
    "tags": []
   },
   "outputs": [
    {
     "data": {
      "text/html": [
       "<div>\n",
       "<style scoped>\n",
       "    .dataframe tbody tr th:only-of-type {\n",
       "        vertical-align: middle;\n",
       "    }\n",
       "\n",
       "    .dataframe tbody tr th {\n",
       "        vertical-align: top;\n",
       "    }\n",
       "\n",
       "    .dataframe thead th {\n",
       "        text-align: right;\n",
       "    }\n",
       "</style>\n",
       "<table border=\"1\" class=\"dataframe\">\n",
       "  <thead>\n",
       "    <tr style=\"text-align: right;\">\n",
       "      <th></th>\n",
       "      <th>Student_ID</th>\n",
       "      <th>Age</th>\n",
       "    </tr>\n",
       "  </thead>\n",
       "  <tbody>\n",
       "    <tr>\n",
       "      <th>83</th>\n",
       "      <td>84</td>\n",
       "      <td>21</td>\n",
       "    </tr>\n",
       "    <tr>\n",
       "      <th>53</th>\n",
       "      <td>54</td>\n",
       "      <td>23</td>\n",
       "    </tr>\n",
       "    <tr>\n",
       "      <th>70</th>\n",
       "      <td>71</td>\n",
       "      <td>24</td>\n",
       "    </tr>\n",
       "    <tr>\n",
       "      <th>45</th>\n",
       "      <td>46</td>\n",
       "      <td>25</td>\n",
       "    </tr>\n",
       "    <tr>\n",
       "      <th>44</th>\n",
       "      <td>45</td>\n",
       "      <td>25</td>\n",
       "    </tr>\n",
       "    <tr>\n",
       "      <th>39</th>\n",
       "      <td>40</td>\n",
       "      <td>23</td>\n",
       "    </tr>\n",
       "    <tr>\n",
       "      <th>22</th>\n",
       "      <td>23</td>\n",
       "      <td>23</td>\n",
       "    </tr>\n",
       "    <tr>\n",
       "      <th>80</th>\n",
       "      <td>81</td>\n",
       "      <td>23</td>\n",
       "    </tr>\n",
       "    <tr>\n",
       "      <th>10</th>\n",
       "      <td>11</td>\n",
       "      <td>25</td>\n",
       "    </tr>\n",
       "    <tr>\n",
       "      <th>0</th>\n",
       "      <td>1</td>\n",
       "      <td>19</td>\n",
       "    </tr>\n",
       "  </tbody>\n",
       "</table>\n",
       "</div>"
      ],
      "text/plain": [
       "    Student_ID  Age\n",
       "83          84   21\n",
       "53          54   23\n",
       "70          71   24\n",
       "45          46   25\n",
       "44          45   25\n",
       "39          40   23\n",
       "22          23   23\n",
       "80          81   23\n",
       "10          11   25\n",
       "0            1   19"
      ]
     },
     "execution_count": 10,
     "metadata": {},
     "output_type": "execute_result"
    }
   ],
   "source": [
    "# Sample size\n",
    "sample_size = 10\n",
    "\n",
    "# Perform simple random sampling\n",
    "sample = df.sample(n=sample_size, random_state=42)  # Setting random_state for reproducibility\n",
    "sample"
   ]
  },
  {
   "cell_type": "markdown",
   "id": "7c4321cc-9bf2-4d32-85ae-0a256b26be8a",
   "metadata": {},
   "source": [
    "Result DataFrame sample containing a simple random sample of students."
   ]
  }
 ],
 "metadata": {
  "kernelspec": {
   "display_name": "Python 3 (ipykernel)",
   "language": "python",
   "name": "python3"
  },
  "language_info": {
   "codemirror_mode": {
    "name": "ipython",
    "version": 3
   },
   "file_extension": ".py",
   "mimetype": "text/x-python",
   "name": "python",
   "nbconvert_exporter": "python",
   "pygments_lexer": "ipython3",
   "version": "3.11.4"
  }
 },
 "nbformat": 4,
 "nbformat_minor": 5
}
